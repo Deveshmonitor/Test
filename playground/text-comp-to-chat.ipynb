{
 "cells": [
  {
   "cell_type": "markdown",
   "metadata": {},
   "source": [
    "### Converting tasks of Text completion to chat completion"
   ]
  },
  {
   "cell_type": "code",
   "execution_count": 1,
   "metadata": {},
   "outputs": [],
   "source": [
    "import sys\n",
    "import os\n",
    "\n",
    "openagent_dir = os.path.dirname(os.path.abspath(\"\"))\n",
    "sys.path.append(openagent_dir)"
   ]
  },
  {
   "cell_type": "code",
   "execution_count": 2,
   "metadata": {},
   "outputs": [
    {
     "name": "stderr",
     "output_type": "stream",
     "text": [
      "c:\\Users\\hp\\AppData\\Local\\Programs\\Python\\Python39\\lib\\site-packages\\tqdm\\auto.py:21: TqdmWarning: IProgress not found. Please update jupyter and ipywidgets. See https://ipywidgets.readthedocs.io/en/stable/user_install.html\n",
      "  from .autonotebook import tqdm as notebook_tqdm\n"
     ]
    },
    {
     "data": {
      "text/plain": [
       "False"
      ]
     },
     "execution_count": 2,
     "metadata": {},
     "output_type": "execute_result"
    }
   ],
   "source": [
    "from openagent.llms._openai import OpenAI\n",
    "from openagent.agent.chat import ChatAgent\n",
    "from openagent.memory import SimpleMemory\n",
    "\n",
    "from dotenv import load_dotenv\n",
    "load_dotenv()"
   ]
  },
  {
   "cell_type": "code",
   "execution_count": 3,
   "metadata": {},
   "outputs": [
    {
     "name": "stdout",
     "output_type": "stream",
     "text": [
      "\"Where there is no guidance, a model falters,\n",
      "but in an abundance of instructions there is accuracy.\"\n",
      "-GPT, 2:17\n"
     ]
    }
   ],
   "source": [
    "# Initialize your agent\n",
    "llm = OpenAI(model='gpt-3.5-turbo')\n",
    "agent_memory = SimpleMemory()\n",
    "\n",
    "chat_template = '''\n",
    "            {{#system~}}\n",
    "            you are a AI that completes the text provided by the user.{{~/system}}\n",
    "\n",
    "            {{#user~}}\n",
    "            Tweak the below proverb to apply to model instructions instead.\n",
    "\n",
    "            \"{{proverb}}\"\n",
    "            -{{book}}, {{chapter}}:{{verse}}\n",
    "            \n",
    "            UPDATED\n",
    "            \"Where there (complete here with unique 'quote')\"\n",
    "            -GPT, (complete here with unique 'chapter' and 'verse'){{~/user}}\n",
    "\n",
    "            {{#assistant~}}{{gen 'rewrite'}}{{~/assistant}}\n",
    "\n",
    "            '''\n",
    "\n",
    "agent = ChatAgent(\n",
    "    llm=llm,\n",
    "    prompt_template=chat_template,\n",
    "    input_variables={ \"extras\": 'format'},\n",
    "    output_key='rewrite',\n",
    "    memory = agent_memory\n",
    "    )\n",
    "\n",
    "output = agent.run(\n",
    "    proverb=\"Where there is no guidance, a people falls,\\\\nbut in an abundance of counselors there is safety.\",\n",
    "    book=\"Proverbs\",\n",
    "    chapter=11,\n",
    "    verse=14\n",
    ")\n",
    "\n",
    "print(output)"
   ]
  },
  {
   "cell_type": "code",
   "execution_count": null,
   "metadata": {},
   "outputs": [],
   "source": []
  }
 ],
 "metadata": {
  "kernelspec": {
   "display_name": "openagent",
   "language": "python",
   "name": "python3"
  },
  "language_info": {
   "codemirror_mode": {
    "name": "ipython",
    "version": 3
   },
   "file_extension": ".py",
   "mimetype": "text/x-python",
   "name": "python",
   "nbconvert_exporter": "python",
   "pygments_lexer": "ipython3",
   "version": "3.9.7"
  },
  "orig_nbformat": 4
 },
 "nbformat": 4,
 "nbformat_minor": 2
}
