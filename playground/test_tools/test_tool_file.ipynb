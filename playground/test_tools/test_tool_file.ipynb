{
 "cells": [
  {
   "cell_type": "code",
   "execution_count": 3,
   "metadata": {},
   "outputs": [],
   "source": [
    "import sys\n",
    "import os\n",
    "\n",
    "script_dir = os.path.dirname(os.path.abspath(\"\"))\n",
    "openagent_dir = os.path.dirname(script_dir)\n",
    "sys.path.append(openagent_dir)"
   ]
  },
  {
   "cell_type": "code",
   "execution_count": 4,
   "metadata": {},
   "outputs": [],
   "source": [
    "import json\n",
    "\n",
    "from openagent import compiler\n",
    "from openagent.llms._openai import OpenAI\n",
    "from openagent.tools.toolkits.file_toolkit._file import FileManagementToolkit"
   ]
  },
  {
   "cell_type": "code",
   "execution_count": 3,
   "metadata": {},
   "outputs": [],
   "source": [
    "llm = OpenAI(model=\"gpt-3.5-turbo-16k\", api_key=\"OpenAI API Key\")"
   ]
  },
  {
   "cell_type": "code",
   "execution_count": 4,
   "metadata": {},
   "outputs": [
    {
     "name": "stdout",
     "output_type": "stream",
     "text": [
      "name='copy_file' description='Create a copy of a file in a specified location' func=None args_schema=<class 'openagent.tools.toolkits.file_toolkit.file.copy.FileCopyInput'> return_direct=False verbose=False root_dir='D:\\\\ZenOp\\x07-08-23\\\\openagent-prompt\\notebooks\\test_tools\\test_files_fileTool'\n",
      "name='file_delete' description='Delete a file' func=None args_schema=<class 'openagent.tools.toolkits.file_toolkit.file.delete.FileDeleteInput'> return_direct=False verbose=False root_dir='D:\\\\ZenOp\\x07-08-23\\\\openagent-prompt\\notebooks\\test_tools\\test_files_fileTool'\n",
      "name='file_search' description='Recursively search for files in a subdirectory that match the regex pattern' func=None args_schema=<class 'openagent.tools.toolkits.file_toolkit.file.search.FileSearchInput'> return_direct=False verbose=False root_dir='D:\\\\ZenOp\\x07-08-23\\\\openagent-prompt\\notebooks\\test_tools\\test_files_fileTool'\n",
      "name='move_file' description='Move or rename a file from one location to another' func=None args_schema=<class 'openagent.tools.toolkits.file_toolkit.file.move.FileMoveInput'> return_direct=False verbose=False root_dir='D:\\\\ZenOp\\x07-08-23\\\\openagent-prompt\\notebooks\\test_tools\\test_files_fileTool'\n",
      "name='read_file' description='Read file from disk' func=None args_schema=<class 'openagent.tools.toolkits.file_toolkit.file.read.ReadFileInput'> return_direct=False verbose=False root_dir='D:\\\\ZenOp\\x07-08-23\\\\openagent-prompt\\notebooks\\test_tools\\test_files_fileTool'\n",
      "name='write_file' description='Write file to disk' func=None args_schema=<class 'openagent.tools.toolkits.file_toolkit.file.write.WriteFileInput'> return_direct=False verbose=False root_dir='D:\\\\ZenOp\\x07-08-23\\\\openagent-prompt\\notebooks\\test_tools\\test_files_fileTool'\n",
      "name='list_directory' description='List files and directories in a specified folder' func=None args_schema=<class 'openagent.tools.toolkits.file_toolkit.file.listdir.DirectoryListingInput'> return_direct=False verbose=False root_dir='D:\\\\ZenOp\\x07-08-23\\\\openagent-prompt\\notebooks\\test_tools\\test_files_fileTool'\n"
     ]
    }
   ],
   "source": [
    "toolkit = FileManagementToolkit(root_dir=\"test_tools\\test_files_fileTool\")\n",
    "tools = toolkit.get_tools()\n",
    "for i in tools:\n",
    "    print(i,end=\"\\n\")"
   ]
  },
  {
   "cell_type": "code",
   "execution_count": null,
   "metadata": {},
   "outputs": [],
   "source": [
    "temp='''\n",
    "{{#system~}}\n",
    "You are a system assistant who helps to work around with files\n",
    "you have access to the following tools:-\n",
    "{{tool}}\n",
    "{{~#each tool}}\n",
    "{{this}}\n",
    "{{/each}}\n",
    "{{~/system}}\n",
    "\n",
    "{{#user~}}\n",
    "answer this question - {{query}} by following this steps\n",
    "first think whether you need to use the tool or not. answer this in one word either <<Yes>> or <<No>>.\n",
    "{{~/user}}\n",
    "\n",
    "{{#assistant~}}\n",
    "{{gen 'tool_use'}}\n",
    "{{~/assistant}}\n",
    "\n",
    "{{#user~}}\n",
    "If the answer is Yes then call the tool using the following format '{\"index\":[index of the tool to be used in the tools list], \"query\":[query to be passed]'\n",
    "If the answer is No, answer to the {{query}} itself.\n",
    "{{~/user}}\n",
    "\n",
    "{{#assistant~}}\n",
    "{{gen 'action' temperature=0 max_tokens=500}}\n",
    "{{#if (tool_use)==\"Yes\"}}\n",
    "{{(tool_func action)}}\n",
    "{{/if}}\n",
    "{{~/assistant}}\n",
    "'''"
   ]
  }
 ],
 "metadata": {
  "kernelspec": {
   "display_name": "env",
   "language": "python",
   "name": "python3"
  },
  "language_info": {
   "codemirror_mode": {
    "name": "ipython",
    "version": 3
   },
   "file_extension": ".py",
   "mimetype": "text/x-python",
   "name": "python",
   "nbconvert_exporter": "python",
   "pygments_lexer": "ipython3",
   "version": "3.9.7"
  },
  "orig_nbformat": 4
 },
 "nbformat": 4,
 "nbformat_minor": 2
}
